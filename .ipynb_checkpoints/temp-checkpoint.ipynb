{
 "cells": [
  {
   "cell_type": "code",
   "execution_count": null,
   "metadata": {},
   "outputs": [],
   "source": [
    "import pandas as pd\n",
    "import numpy as np\n",
    "import seaborn as sns\n",
    "import matplotlib.pyplot as plt\n",
    "import statsmodels.api as sm\n",
    "\n",
    "from sklearn.tree import DecisionTreeClassifier\n",
    "from sklearn.tree import plot_tree\n",
    "from sklearn.model_selection import train_test_split\n",
    "from sklearn.model_selection import cross_val_score\n",
    "from sklearn.metrics import confusion_matrix\n",
    "from sklearn.metrics import plot_confusion_matrix\n",
    "\n",
    "domaindatadf = pd.read_csv('dga_data_small.csv')\n",
    "\n",
    "    \n",
    "\n",
    "print(domaindatadf.tail())"
   ]
  },
  {
   "cell_type": "code",
   "execution_count": null,
   "metadata": {},
   "outputs": [],
   "source": [
    "print(domaindatadf.shape)"
   ]
  },
  {
   "cell_type": "code",
   "execution_count": null,
   "metadata": {},
   "outputs": [],
   "source": [
    "def catToNumber(isdga):\n",
    "    if isdga == 'legit':\n",
    "        return 1\n",
    "    elif isdga == 'dga':\n",
    "        return 0\n",
    "domaincopydf['isDGA_N'] = domaincopydf['isDGA'].apply(catToNumber)\n",
    "print(domaincopydf.tail())\n",
    "#Converting DGA col"
   ]
  },
  {
   "cell_type": "code",
   "execution_count": null,
   "metadata": {},
   "outputs": [],
   "source": [
    "print(domaincopydf[\"subclass\"].value_counts())\n",
    "#Checking data split based on subclass column"
   ]
  },
  {
   "cell_type": "code",
   "execution_count": null,
   "metadata": {},
   "outputs": [],
   "source": [
    "def catToNumber2(subclass):\n",
    "    if subclass == 'alexa':\n",
    "        return 0\n",
    "    elif subclass == 'legit':\n",
    "        return 1\n",
    "    elif subclass == 'cryptolocker':\n",
    "        return 2\n",
    "    elif subclass == 'newgoz':\n",
    "        return 3\n",
    "    elif subclass == 'necurs':\n",
    "        return 4\n",
    "    elif subclass == 'nivdort':\n",
    "        return 5\n",
    "    elif subclass == 'gameoverdga':\n",
    "        return 6\n",
    "    elif subclass == 'goz':\n",
    "        return 7\n",
    "    elif subclass == 'bamital':\n",
    "        return 8\n",
    "domaincopydf['subclass_N'] = domaincopydf['subclass'].apply(catToNumber2)\n",
    "\n",
    "print(domaincopydf)\n",
    "#Subclass converted into num values"
   ]
  },
  {
   "cell_type": "code",
   "execution_count": null,
   "metadata": {},
   "outputs": [],
   "source": [
    "domain_cross_check = pd.crosstab(domaincopydf['subclass'],domaincopydf['isDGA_N'])\n",
    "print(domain_cross_check)\n",
    "#Checking subclass split against isdga training column"
   ]
  },
  {
   "cell_type": "code",
   "execution_count": null,
   "metadata": {},
   "outputs": [],
   "source": [
    "#domaincopydf['topleveldomain'] = domaincopydf['host'].str.split('.').str[1]\n",
    "domaincopydf['topleveldomain'] = domaincopydf['host'].str.split('.', 1).str[1]\n",
    "#Splitting up top level domain"
   ]
  },
  {
   "cell_type": "code",
   "execution_count": null,
   "metadata": {},
   "outputs": [],
   "source": [
    "print(domaincopydf)"
   ]
  },
  {
   "cell_type": "code",
   "execution_count": null,
   "metadata": {},
   "outputs": [],
   "source": [
    "dummies = pd.get_dummies(domaincopydf['subclass'])\n",
    "#domaincopydf.subclass_N = pd.get_dummies(domaincopydf, columns=['subclass_N'])\n",
    "domaincopydf = domaincopydf.join(dummies)\n",
    "domaincopydf\n",
    "#Hot encoding"
   ]
  },
  {
   "cell_type": "code",
   "execution_count": null,
   "metadata": {},
   "outputs": [],
   "source": [
    "def digitsPerWord(word):\n",
    "    sum=0\n",
    "    for l in word:\n",
    "        if l.isdigit():\n",
    "            sum=sum+1     \n",
    "    return sum \n",
    "\n",
    "\n",
    "domaincopydf['digitCount'] = domaincopydf['domain'].apply(digitsPerWord)\n",
    "\n",
    "print(domaincopydf)\n",
    "#Function for a digit count of each domain row"
   ]
  },
  {
   "cell_type": "code",
   "execution_count": null,
   "metadata": {},
   "outputs": [],
   "source": [
    "pd.set_option('display.max_rows', None)\n",
    "print(domaincopydf[\"topleveldomain\"].value_counts())\n",
    "#Value split check through top level domain"
   ]
  },
  {
   "cell_type": "code",
   "execution_count": null,
   "metadata": {},
   "outputs": [],
   "source": [
    "domain_cross_check2 = pd.crosstab(domaincopydf['topleveldomain'],domaincopydf['isDGA_N'])\n",
    "print(domain_cross_check2)\n",
    "#Crosscheck through DGA col"
   ]
  },
  {
   "cell_type": "code",
   "execution_count": null,
   "metadata": {},
   "outputs": [],
   "source": [
    "def majority_value(domain_cross_check):\n",
    "    zero = domain_cross_check[0]\n",
    "    one = domain_cross_check[1]\n",
    "    if zero > one:\n",
    "        return 0\n",
    "    else:\n",
    "        return 1\n",
    "\n",
    "domain_cross_check2['majority01'] = domain_cross_check2.apply(lambda row: majority_value(row), axis=1)\n",
    "domain_cross_check2 = domain_cross_check2.sort_values(by=['majority01'], ascending=False)\n",
    "print(domain_cross_check2)\n",
    "#Don't use this. Removing this from code in future."
   ]
  },
  {
   "cell_type": "code",
   "execution_count": null,
   "metadata": {},
   "outputs": [],
   "source": [
    "domainfirsttestsdf = domaincopydf.copy(deep=True)\n",
    "domainfirsttestsdf.drop(['subclass_N'], axis=1, inplace=True)\n",
    "domainfirsttestsdf\n",
    "#Cat to Num conversion"
   ]
  },
  {
   "cell_type": "code",
   "execution_count": null,
   "metadata": {},
   "outputs": [],
   "source": [
    "def vowelRatio(word):\n",
    "    count = 0\n",
    "    for letter in word:\n",
    "        if letter == \"a\" or letter == \"e\" or letter == \"i\" or letter == \"o\" or letter == \"u\":\n",
    "            count = count + 1\n",
    "    consonant = len(word) - count\n",
    "    ratio = count / len(word)\n",
    "    return ratio\n",
    "\n",
    "domainfirsttestsdf['vowelratio'] = domainfirsttestsdf['domain'].apply(vowelRatio)\n",
    "print(domainfirsttestsdf.tail())\n",
    "\n",
    "#Vowel ratio column creator function\n",
    "#Significant outside of the digit count"
   ]
  },
  {
   "cell_type": "code",
   "execution_count": null,
   "metadata": {},
   "outputs": [],
   "source": [
    "print(domainfirsttestsdf.columns)"
   ]
  },
  {
   "cell_type": "code",
   "execution_count": null,
   "metadata": {},
   "outputs": [],
   "source": [
    "def divideTLD(tld):\n",
    "    if tld in ['to', 'ug', 'sc', 'sh', 'so', 'su', 'sx', 'ac', 'pro', 'ga', 'bit', 'bz', 'cm', 'cx', 'im', 'ki', 'la', 'mn', 'ms', 'nf']:\n",
    "        return 0 # perfect majority 0\n",
    "    elif tld in ['ru', 'tv', 'biz', 'tw', 'co', 'co.uk', 'org', 'info', 'net', 'xxx']:\n",
    "        return 1 # uneven majority 0\n",
    "    elif tld in ['hr', 'io', 'tk', 'ie', 'hu', 'am', 'hk', 'gr', 'gov.tw', 'gov.br', 'gov', 'gouv.fr', 'gob.ar', 'tn', 'fr', 'pt', 'is', 'it', 'nl', 'pl', 'ph', 'pe', 'org.br', 'ro', 'no', 'net.cn', 'jus.br', 'mu', 'se', 'me', 'lv', 'lt', 'fi', 'fm', 'edu.sa', 'co.in', 'co.id', 'edu', 'cn', 'ua', 'cl', 'ch', 'ca', 'blogspot.com', 'blog.br', 'vn', 'be', 'ba', 'az', 'at', 'asia', 'com.ar', 'com.au', 'com.br', 'com.cn', 'co.kr', 'com.tw', 'com.mx', 'com.tr', 'co.il', 'presse.fr', 'co.jp', 'com.my', 'do', 'dk', 'cz']:\n",
    "        return 2 # perfect majority 1\n",
    "    elif tld in ['eu', 'ir', 'in', 'jp', 'mx', 'cc', 'us', 'de', 'com']:\n",
    "        return 3 # uneven majority 1\n",
    "    elif tld in ['nu', 'kz']:\n",
    "        return 4 # ties\n",
    "    \n",
    "domainfirsttestsdf['tlddivided'] = domaincopydf['topleveldomain'].apply(divideTLD)\n",
    "print(domainfirsttestsdf)\n",
    "#Ignore this column as well"
   ]
  },
  {
   "cell_type": "code",
   "execution_count": null,
   "metadata": {},
   "outputs": [],
   "source": [
    "namemap = {0.0: 'tld_p0', 1.0: 'tld_m0', 2.0: 'tld_p1', 3.0: 'tld_m1', 4.0: 'tld_t01'} \n",
    "domainfirsttestsdf = domainfirsttestsdf.rename(columns=namemap) \n",
    "domainfirsttestsdf"
   ]
  },
  {
   "cell_type": "code",
   "execution_count": null,
   "metadata": {},
   "outputs": [],
   "source": [
    "domainfirsttestsdf\n"
   ]
  },
  {
   "cell_type": "code",
   "execution_count": null,
   "metadata": {},
   "outputs": [],
   "source": [
    "namemap = {0.0: 'tld_p0', 1.0: 'tld_m0', 2.0: 'tld_p1', 3.0: 'tld_m1', 4.0: 'tld_t01'} \n",
    "domainfirsttestsdf = domainfirsttestsdf.rename(columns=namemap) \n",
    "domainfirsttestsdf"
   ]
  },
  {
   "cell_type": "code",
   "execution_count": null,
   "metadata": {},
   "outputs": [],
   "source": [
    "#This is my current code!"
   ]
  }
 ],
 "metadata": {
  "kernelspec": {
   "display_name": "Python 3 (ipykernel)",
   "language": "python",
   "name": "python3"
  },
  "language_info": {
   "codemirror_mode": {
    "name": "ipython",
    "version": 3
   },
   "file_extension": ".py",
   "mimetype": "text/x-python",
   "name": "python",
   "nbconvert_exporter": "python",
   "pygments_lexer": "ipython3",
   "version": "3.9.13"
  }
 },
 "nbformat": 4,
 "nbformat_minor": 2
}
