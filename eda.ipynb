{
 "cells": [
  {
   "cell_type": "markdown",
   "metadata": {},
   "source": [
    "# Set Up"
   ]
  },
  {
   "cell_type": "code",
   "execution_count": 1,
   "metadata": {},
   "outputs": [],
   "source": [
    "import seaborn as sns\n",
    "import numpy as np\n",
    "import pandas as pd"
   ]
  },
  {
   "cell_type": "code",
   "execution_count": 2,
   "metadata": {},
   "outputs": [],
   "source": [
    "# Read the main file\n",
    "main_df = pd.read_csv('dga_data_small1.csv')"
   ]
  },
  {
   "cell_type": "code",
   "execution_count": 25,
   "metadata": {},
   "outputs": [
    {
     "name": "stdout",
     "output_type": "stream",
     "text": [
      "co.uk\n"
     ]
    }
   ],
   "source": [
    "pattern = r'\\.(.+)'\n",
    "host = 'tyopcrkqgxcfm.co.uk'\n",
    "match = re.search(pattern, host)\n",
    "print(match.group(1))"
   ]
  },
  {
   "cell_type": "code",
   "execution_count": 44,
   "metadata": {},
   "outputs": [],
   "source": [
    "# Extract the top level domain from host to a new column\n",
    "\n",
    "import re\n",
    "\n",
    "def extract_tld(host): # tld = top level domain\n",
    "    pattern = r'\\.(.+)'\n",
    "    match = re.search(pattern, host)\n",
    "    if match:\n",
    "        return match.group(1)\n",
    "    else:\n",
    "        return None\n",
    "\n",
    "main_df['tld'] = main_df['host'].apply(extract_tld)\n",
    "\n",
    "main_df['cctld'] = main_df['tld'].apply(extract_tld) # Code country top level domain\n",
    "\n",
    "main_df = main_df.rename(columns = {'domain': 'subdomain'})"
   ]
  },
  {
   "cell_type": "code",
   "execution_count": 47,
   "metadata": {},
   "outputs": [],
   "source": [
    "def is_ascii_domain(subdomain):\n",
    "    ascii_pattern = re.compile(r'^[a-zA-Z0-9.-]+$')\n",
    "    return bool(ascii_pattern.match(subdomain))\n",
    "    \n",
    "main_df['ascii'] = main_df['subdomain'].apply(is_ascii_domain)"
   ]
  },
  {
   "cell_type": "markdown",
   "metadata": {},
   "source": [
    "# EDA"
   ]
  },
  {
   "cell_type": "code",
   "execution_count": 48,
   "metadata": {},
   "outputs": [
    {
     "data": {
      "text/html": [
       "<div>\n",
       "<style scoped>\n",
       "    .dataframe tbody tr th:only-of-type {\n",
       "        vertical-align: middle;\n",
       "    }\n",
       "\n",
       "    .dataframe tbody tr th {\n",
       "        vertical-align: top;\n",
       "    }\n",
       "\n",
       "    .dataframe thead th {\n",
       "        text-align: right;\n",
       "    }\n",
       "</style>\n",
       "<table border=\"1\" class=\"dataframe\">\n",
       "  <thead>\n",
       "    <tr style=\"text-align: center;\">\n",
       "      <th></th>\n",
       "      <th>isDGA</th>\n",
       "      <th>subdomain</th>\n",
       "      <th>host</th>\n",
       "      <th>subclass</th>\n",
       "      <th>tld</th>\n",
       "      <th>cctld</th>\n",
       "      <th>ascii</th>\n",
       "    </tr>\n",
       "  </thead>\n",
       "  <tbody>\n",
       "    <tr>\n",
       "      <th>0</th>\n",
       "      <td>dga</td>\n",
       "      <td>tyopcrkqgxcfm</td>\n",
       "      <td>tyopcrkqgxcfm.co.uk</td>\n",
       "      <td>cryptolocker</td>\n",
       "      <td>co.uk</td>\n",
       "      <td>uk</td>\n",
       "      <td>True</td>\n",
       "    </tr>\n",
       "    <tr>\n",
       "      <th>1</th>\n",
       "      <td>dga</td>\n",
       "      <td>72j5rn1l9mzleo6203v1ogenfl</td>\n",
       "      <td>72j5rn1l9mzleo6203v1ogenfl.org</td>\n",
       "      <td>gameoverdga</td>\n",
       "      <td>org</td>\n",
       "      <td>None</td>\n",
       "      <td>True</td>\n",
       "    </tr>\n",
       "    <tr>\n",
       "      <th>2</th>\n",
       "      <td>dga</td>\n",
       "      <td>thenrest</td>\n",
       "      <td>thenrest.net</td>\n",
       "      <td>nivdort</td>\n",
       "      <td>net</td>\n",
       "      <td>None</td>\n",
       "      <td>True</td>\n",
       "    </tr>\n",
       "    <tr>\n",
       "      <th>3</th>\n",
       "      <td>dga</td>\n",
       "      <td>15ihbm71utcnfa8dk1mmgoobl9</td>\n",
       "      <td>15ihbm71utcnfa8dk1mmgoobl9.org</td>\n",
       "      <td>gameoverdga</td>\n",
       "      <td>org</td>\n",
       "      <td>None</td>\n",
       "      <td>True</td>\n",
       "    </tr>\n",
       "    <tr>\n",
       "      <th>4</th>\n",
       "      <td>dga</td>\n",
       "      <td>x1d6ou7e7kofk60ayhq74x7e</td>\n",
       "      <td>x1d6ou7e7kofk60ayhq74x7e.net</td>\n",
       "      <td>gameoverdga</td>\n",
       "      <td>net</td>\n",
       "      <td>None</td>\n",
       "      <td>True</td>\n",
       "    </tr>\n",
       "    <tr>\n",
       "      <th>5</th>\n",
       "      <td>dga</td>\n",
       "      <td>nvptudwjfcmv</td>\n",
       "      <td>nvptudwjfcmv.ru</td>\n",
       "      <td>cryptolocker</td>\n",
       "      <td>ru</td>\n",
       "      <td>None</td>\n",
       "      <td>True</td>\n",
       "    </tr>\n",
       "    <tr>\n",
       "      <th>6</th>\n",
       "      <td>dga</td>\n",
       "      <td>dtvbafg</td>\n",
       "      <td>dtvbafg.nf</td>\n",
       "      <td>necurs</td>\n",
       "      <td>nf</td>\n",
       "      <td>None</td>\n",
       "      <td>True</td>\n",
       "    </tr>\n",
       "    <tr>\n",
       "      <th>7</th>\n",
       "      <td>dga</td>\n",
       "      <td>doqlkpjszrcacin3d7j7k931</td>\n",
       "      <td>doqlkpjszrcacin3d7j7k931.net</td>\n",
       "      <td>newgoz</td>\n",
       "      <td>net</td>\n",
       "      <td>None</td>\n",
       "      <td>True</td>\n",
       "    </tr>\n",
       "    <tr>\n",
       "      <th>8</th>\n",
       "      <td>dga</td>\n",
       "      <td>tacygbtrbuytir</td>\n",
       "      <td>tacygbtrbuytir.co.uk</td>\n",
       "      <td>cryptolocker</td>\n",
       "      <td>co.uk</td>\n",
       "      <td>uk</td>\n",
       "      <td>True</td>\n",
       "    </tr>\n",
       "    <tr>\n",
       "      <th>9</th>\n",
       "      <td>dga</td>\n",
       "      <td>ogpbfninqpxa</td>\n",
       "      <td>ogpbfninqpxa.ru</td>\n",
       "      <td>cryptolocker</td>\n",
       "      <td>ru</td>\n",
       "      <td>None</td>\n",
       "      <td>True</td>\n",
       "    </tr>\n",
       "  </tbody>\n",
       "</table>\n",
       "</div>"
      ],
      "text/plain": [
       "  isDGA          subdomain                        host               \\\n",
       "0   dga               tyopcrkqgxcfm             tyopcrkqgxcfm.co.uk   \n",
       "1   dga  72j5rn1l9mzleo6203v1ogenfl  72j5rn1l9mzleo6203v1ogenfl.org   \n",
       "2   dga                    thenrest                    thenrest.net   \n",
       "3   dga  15ihbm71utcnfa8dk1mmgoobl9  15ihbm71utcnfa8dk1mmgoobl9.org   \n",
       "4   dga    x1d6ou7e7kofk60ayhq74x7e    x1d6ou7e7kofk60ayhq74x7e.net   \n",
       "5   dga                nvptudwjfcmv                 nvptudwjfcmv.ru   \n",
       "6   dga                     dtvbafg                      dtvbafg.nf   \n",
       "7   dga    doqlkpjszrcacin3d7j7k931    doqlkpjszrcacin3d7j7k931.net   \n",
       "8   dga              tacygbtrbuytir            tacygbtrbuytir.co.uk   \n",
       "9   dga                ogpbfninqpxa                 ogpbfninqpxa.ru   \n",
       "\n",
       "     subclass    tld   cctld  ascii  \n",
       "0  cryptolocker  co.uk    uk  True   \n",
       "1   gameoverdga    org  None  True   \n",
       "2       nivdort    net  None  True   \n",
       "3   gameoverdga    org  None  True   \n",
       "4   gameoverdga    net  None  True   \n",
       "5  cryptolocker     ru  None  True   \n",
       "6        necurs     nf  None  True   \n",
       "7        newgoz    net  None  True   \n",
       "8  cryptolocker  co.uk    uk  True   \n",
       "9  cryptolocker     ru  None  True   "
      ]
     },
     "execution_count": 48,
     "metadata": {},
     "output_type": "execute_result"
    }
   ],
   "source": [
    "main_df.head(10)"
   ]
  },
  {
   "cell_type": "code",
   "execution_count": 49,
   "metadata": {},
   "outputs": [
    {
     "name": "stdout",
     "output_type": "stream",
     "text": [
      "Unique values for isDGA: ['dga' 'legit']\n",
      "\n",
      "Unique values for subdomain: ['tyopcrkqgxcfm' '72j5rn1l9mzleo6203v1ogenfl' 'thenrest' ... '51zzl'\n",
      " 'index-education' 'fastpics']\n",
      "\n",
      "Unique values for host: ['tyopcrkqgxcfm.co.uk' '72j5rn1l9mzleo6203v1ogenfl.org' 'thenrest.net' ...\n",
      " '51zzl.com' 'index-education.com' 'fastpics.us']\n",
      "\n",
      "Unique values for subclass: ['cryptolocker' 'gameoverdga' 'nivdort' 'necurs' 'newgoz' 'goz' 'bamital'\n",
      " 'alexa' 'legit']\n",
      "\n",
      "Unique values for tld: ['co.uk' 'org' 'net' 'ru' 'nf' 'ir' 'biz' 'info' 'bit' 'com' 'bz' 'in'\n",
      " 'tv' 'kz' 'cx' 'ga' 'ms' 'ki' 'jp' 'sh' 'pro' 'eu' 'la' 'tw' 'mn' 'to'\n",
      " 'ug' 'xxx' 'us' 'sx' 'ac' 'de' 'im' 'cm' 'co' 'so' 'sc' 'mx' 'su' 'nu'\n",
      " 'cc' 'com.br' 'io' 'it' 'com.tr' 'be' 'pl' 'gr' 'com.au' 'cl' 'tk'\n",
      " 'co.id' 'fr' 'nl' 'ch' 'dk' 'hu' 'ua' 'lt' 'gov.tw' 'pe' 'lv' 'com.tw'\n",
      " 'com.cn' 'ca' 'ba' 'ie' 'ro' 'co.kr' 'vn' 'co.jp' 'pt' 'cn' 'me' 'org.br'\n",
      " 'at' 'gov.br' 'edu' 'tn' 'blog.br' 'presse.fr' 'net.cn' 'fi' 'am' 'az'\n",
      " 'ph' 'blogspot.com' 'hr' 'hk' 'is' 'mu' 'fm' 'edu.sa' 'gov' 'no' 'co.il'\n",
      " 'gob.ar' 'com.my' 'com.mx' 'com.ar' 'asia' 'do' 'cz' 'co.in' 'gouv.fr'\n",
      " 'jus.br' 'se']\n",
      "\n",
      "Unique values for cctld: ['uk' None 'br' 'tr' 'au' 'id' 'tw' 'cn' 'kr' 'jp' 'fr' 'com' 'sa' 'il'\n",
      " 'ar' 'my' 'mx' 'in']\n",
      "\n",
      "Unique values for ascii: [ True]\n",
      "\n"
     ]
    }
   ],
   "source": [
    "for col in main_df.columns:\n",
    "    print(f'Unique values for {col}: {main_df[col].unique()}\\n')"
   ]
  }
 ],
 "metadata": {
  "kernelspec": {
   "display_name": "Python 3",
   "language": "python",
   "name": "python3"
  },
  "language_info": {
   "codemirror_mode": {
    "name": "ipython",
    "version": 3
   },
   "file_extension": ".py",
   "mimetype": "text/x-python",
   "name": "python",
   "nbconvert_exporter": "python",
   "pygments_lexer": "ipython3",
   "version": "3.12.1"
  }
 },
 "nbformat": 4,
 "nbformat_minor": 2
}
